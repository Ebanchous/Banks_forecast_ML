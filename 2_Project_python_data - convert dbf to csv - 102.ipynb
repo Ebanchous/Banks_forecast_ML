{
 "cells": [
  {
   "cell_type": "code",
   "execution_count": null,
   "metadata": {},
   "outputs": [],
   "source": [
    "'''import dbf\n",
    "\n",
    "file = dbf.Table(r'C:\\Users\\DSimonov\\Desktop\\aa\\101\\ready_for\\012008B1.DBF', codepage='cp866')\n",
    "print(file.open())\n",
    "out = ('sdv.csv')\n",
    "dbf.export(file, filename=out, header=True, encoding='ascii') \n",
    "file.close()'''"
   ]
  },
  {
   "cell_type": "code",
   "execution_count": null,
   "metadata": {},
   "outputs": [],
   "source": [
    "'''Now iterate over all DBF files to convert co CSV'''"
   ]
  },
  {
   "cell_type": "code",
   "execution_count": null,
   "metadata": {},
   "outputs": [],
   "source": [
    "'''import re\n",
    "import os\n",
    "import dbf\n",
    "for subdir, dirs, files in os.walk(r'C:\\Users\\DSimonov\\Desktop\\aa\\101\\ready_for'):\n",
    "    for file in files:\n",
    "        filepath = subdir + os.sep + file\n",
    "        file_name = os.path.basename(file).split('.')[-2:][0]\n",
    "        if filepath.endswith(\".DBF\"):\n",
    "            print(\"begin\")\n",
    "            file = dbf.Table(filepath, codepage='cp866')\n",
    "            out = (file_name+'.csv')\n",
    "            dbf.export(file, filename=out, header=True, encoding='ascii') \n",
    "            file.close()'''"
   ]
  },
  {
   "cell_type": "code",
   "execution_count": 1,
   "metadata": {},
   "outputs": [
    {
     "name": "stdout",
     "output_type": "stream",
     "text": [
      "Phase 2. Converting DBF files into CSV for Pandas\n",
      "Done! file number 1 out of 50 (2% done, and now it is here: C:\\Users\\DSimonov\\Desktop\\aa\\102\\12007_P1.csv)\n",
      "Done! file number 2 out of 50 (4% done, and now it is here: C:\\Users\\DSimonov\\Desktop\\aa\\102\\12008_P1.csv)\n",
      "Done! file number 3 out of 50 (6% done, and now it is here: C:\\Users\\DSimonov\\Desktop\\aa\\102\\12009_P1.csv)\n",
      "Done! file number 4 out of 50 (8% done, and now it is here: C:\\Users\\DSimonov\\Desktop\\aa\\102\\12010_P1.csv)\n",
      "Done! file number 5 out of 50 (10% done, and now it is here: C:\\Users\\DSimonov\\Desktop\\aa\\102\\12011_P1.csv)\n",
      "Done! file number 6 out of 50 (12% done, and now it is here: C:\\Users\\DSimonov\\Desktop\\aa\\102\\12012_P1.csv)\n",
      "Done! file number 7 out of 50 (14% done, and now it is here: C:\\Users\\DSimonov\\Desktop\\aa\\102\\12013_P1.csv)\n",
      "Done! file number 8 out of 50 (16% done, and now it is here: C:\\Users\\DSimonov\\Desktop\\aa\\102\\12014_P1.csv)\n",
      "Done! file number 9 out of 50 (18% done, and now it is here: C:\\Users\\DSimonov\\Desktop\\aa\\102\\12015_P1.csv)\n",
      "Done! file number 10 out of 50 (20% done, and now it is here: C:\\Users\\DSimonov\\Desktop\\aa\\102\\12016_P1.csv)\n",
      "Done! file number 11 out of 50 (22% done, and now it is here: C:\\Users\\DSimonov\\Desktop\\aa\\102\\12017_P1.csv)\n",
      "Done! file number 12 out of 50 (24% done, and now it is here: C:\\Users\\DSimonov\\Desktop\\aa\\102\\12018_P1.csv)\n",
      "Done! file number 13 out of 50 (26% done, and now it is here: C:\\Users\\DSimonov\\Desktop\\aa\\102\\12019_P1.csv)\n",
      "Done! file number 14 out of 50 (28% done, and now it is here: C:\\Users\\DSimonov\\Desktop\\aa\\102\\22007_P1.csv)\n",
      "Done! file number 15 out of 50 (30% done, and now it is here: C:\\Users\\DSimonov\\Desktop\\aa\\102\\22008_P1.csv)\n",
      "Done! file number 16 out of 50 (32% done, and now it is here: C:\\Users\\DSimonov\\Desktop\\aa\\102\\22009_P1.csv)\n",
      "Done! file number 17 out of 50 (34% done, and now it is here: C:\\Users\\DSimonov\\Desktop\\aa\\102\\22010_P1.csv)\n",
      "Done! file number 18 out of 50 (36% done, and now it is here: C:\\Users\\DSimonov\\Desktop\\aa\\102\\22011_P1.csv)\n",
      "Done! file number 19 out of 50 (38% done, and now it is here: C:\\Users\\DSimonov\\Desktop\\aa\\102\\22012_P1.csv)\n",
      "Done! file number 20 out of 50 (40% done, and now it is here: C:\\Users\\DSimonov\\Desktop\\aa\\102\\22013_P1.csv)\n",
      "Done! file number 21 out of 50 (42% done, and now it is here: C:\\Users\\DSimonov\\Desktop\\aa\\102\\22014_P1.csv)\n",
      "Done! file number 22 out of 50 (44% done, and now it is here: C:\\Users\\DSimonov\\Desktop\\aa\\102\\22015_P1.csv)\n",
      "Done! file number 23 out of 50 (46% done, and now it is here: C:\\Users\\DSimonov\\Desktop\\aa\\102\\22016_P1.csv)\n",
      "Done! file number 24 out of 50 (48% done, and now it is here: C:\\Users\\DSimonov\\Desktop\\aa\\102\\22017_P1.csv)\n",
      "Done! file number 25 out of 50 (50% done, and now it is here: C:\\Users\\DSimonov\\Desktop\\aa\\102\\22018_P1.csv)\n",
      "Done! file number 26 out of 50 (52% done, and now it is here: C:\\Users\\DSimonov\\Desktop\\aa\\102\\32007_P1.csv)\n",
      "Done! file number 27 out of 50 (54% done, and now it is here: C:\\Users\\DSimonov\\Desktop\\aa\\102\\32008_P1.csv)\n",
      "Done! file number 28 out of 50 (56% done, and now it is here: C:\\Users\\DSimonov\\Desktop\\aa\\102\\32009_P1.csv)\n",
      "Done! file number 29 out of 50 (57% done, and now it is here: C:\\Users\\DSimonov\\Desktop\\aa\\102\\32010_P1.csv)\n",
      "Done! file number 30 out of 50 (60% done, and now it is here: C:\\Users\\DSimonov\\Desktop\\aa\\102\\32011_P1.csv)\n",
      "Done! file number 31 out of 50 (62% done, and now it is here: C:\\Users\\DSimonov\\Desktop\\aa\\102\\32012_P1.csv)\n",
      "Done! file number 32 out of 50 (64% done, and now it is here: C:\\Users\\DSimonov\\Desktop\\aa\\102\\32013_P1.csv)\n",
      "Done! file number 33 out of 50 (66% done, and now it is here: C:\\Users\\DSimonov\\Desktop\\aa\\102\\32014_P1.csv)\n",
      "Done! file number 34 out of 50 (68% done, and now it is here: C:\\Users\\DSimonov\\Desktop\\aa\\102\\32015_P1.csv)\n",
      "Done! file number 35 out of 50 (70% done, and now it is here: C:\\Users\\DSimonov\\Desktop\\aa\\102\\32016_P1.csv)\n",
      "Done! file number 36 out of 50 (72% done, and now it is here: C:\\Users\\DSimonov\\Desktop\\aa\\102\\32017_P1.csv)\n",
      "Done! file number 37 out of 50 (74% done, and now it is here: C:\\Users\\DSimonov\\Desktop\\aa\\102\\32018_P1.csv)\n",
      "Done! file number 38 out of 50 (76% done, and now it is here: C:\\Users\\DSimonov\\Desktop\\aa\\102\\42006_P1.csv)\n",
      "Done! file number 39 out of 50 (78% done, and now it is here: C:\\Users\\DSimonov\\Desktop\\aa\\102\\42007_P1.csv)\n",
      "Done! file number 40 out of 50 (80% done, and now it is here: C:\\Users\\DSimonov\\Desktop\\aa\\102\\42008_P1.csv)\n",
      "Done! file number 41 out of 50 (82% done, and now it is here: C:\\Users\\DSimonov\\Desktop\\aa\\102\\42009_P1.csv)\n",
      "Done! file number 42 out of 50 (84% done, and now it is here: C:\\Users\\DSimonov\\Desktop\\aa\\102\\42010_P1.csv)\n",
      "Done! file number 43 out of 50 (86% done, and now it is here: C:\\Users\\DSimonov\\Desktop\\aa\\102\\42011_P1.csv)\n",
      "Done! file number 44 out of 50 (88% done, and now it is here: C:\\Users\\DSimonov\\Desktop\\aa\\102\\42012_P1.csv)\n",
      "Done! file number 45 out of 50 (90% done, and now it is here: C:\\Users\\DSimonov\\Desktop\\aa\\102\\42013_P1.csv)\n",
      "Done! file number 46 out of 50 (92% done, and now it is here: C:\\Users\\DSimonov\\Desktop\\aa\\102\\42014_P1.csv)\n",
      "Done! file number 47 out of 50 (94% done, and now it is here: C:\\Users\\DSimonov\\Desktop\\aa\\102\\42015_P1.csv)\n",
      "Done! file number 48 out of 50 (96% done, and now it is here: C:\\Users\\DSimonov\\Desktop\\aa\\102\\42016_P1.csv)\n",
      "Done! file number 49 out of 50 (98% done, and now it is here: C:\\Users\\DSimonov\\Desktop\\aa\\102\\42017_P1.csv)\n",
      "Done! file number 50 out of 50 (100% done, and now it is here: C:\\Users\\DSimonov\\Desktop\\aa\\102\\42018_P1.csv)\n",
      "Completed phase 2!\n",
      "Wall time: 25min 11s\n"
     ]
    }
   ],
   "source": [
    "%%time\n",
    "import re\n",
    "import os\n",
    "import dbf\n",
    "i=1\n",
    "print(\"Phase 2. Converting DBF files into CSV for Pandas\")\n",
    "for subdir, dirs, files in os.walk(r'C:\\Users\\DSimonov\\Desktop\\aa\\102\\ready_for'):\n",
    "    for file in files:\n",
    "        filepath = subdir + os.sep + file\n",
    "        file_name = os.path.basename(file).split('.')[-2:][0]\n",
    "        if filepath.endswith(\".DBF\"):\n",
    "#            print(\"begin\")\n",
    "            file = dbf.Table(filepath, codepage='cp866')\n",
    "            file.open()\n",
    "            out = (r'C:\\Users\\DSimonov\\Desktop\\aa\\102'+'\\\\'+ file_name+ '.csv')\n",
    "            dbf.export(file, filename=out, header=True, encoding='cp866') \n",
    "            file.close()\n",
    "            print (f'Done! file number {i} out of {len(files)} ({int(i/(len(files))*100)}% done, and now it is here: {out})')\n",
    "            i+=1\n",
    "print(\"Completed phase 2!\")"
   ]
  },
  {
   "cell_type": "code",
   "execution_count": null,
   "metadata": {},
   "outputs": [],
   "source": []
  }
 ],
 "metadata": {
  "kernelspec": {
   "display_name": "Python 3",
   "language": "python",
   "name": "python3"
  },
  "language_info": {
   "codemirror_mode": {
    "name": "ipython",
    "version": 3
   },
   "file_extension": ".py",
   "mimetype": "text/x-python",
   "name": "python",
   "nbconvert_exporter": "python",
   "pygments_lexer": "ipython3",
   "version": "3.7.3"
  }
 },
 "nbformat": 4,
 "nbformat_minor": 2
}

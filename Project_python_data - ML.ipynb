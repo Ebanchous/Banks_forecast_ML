{
 "cells": [
  {
   "cell_type": "code",
   "execution_count": 1,
   "metadata": {},
   "outputs": [
    {
     "name": "stdout",
     "output_type": "stream",
     "text": [
      "Phase 5. Converting all CSV files into Pandas Database.\n",
      "Now begin to process 1 of 6 files, (16%)\n",
      "Done!\n",
      "Now begin to process 2 of 6 files, (33%)\n",
      "Done!\n",
      "Now begin to process 3 of 6 files, (50%)\n",
      "Done!\n",
      "Now begin to process 4 of 6 files, (66%)\n",
      "Done!\n",
      "Now begin to process 5 of 6 files, (83%)\n",
      "Done!\n",
      "Now begin to process 6 of 6 files, (100%)\n",
      "Done!\n",
      "Everything was imported. Now we have 1140 rows in file.\n",
      "Saving to CSV\n",
      "Phase 5 completed!\n",
      "Wall time: 1.13 s\n"
     ]
    }
   ],
   "source": [
    "%%time\n",
    "import re\n",
    "import os\n",
    "import pandas as pd\n",
    "import numpy as np\n",
    "i=1\n",
    "df_temp=pd.DataFrame()\n",
    "new = pd.DataFrame()\n",
    "print(\"Phase 5. Converting all CSV files into Pandas Database.\")\n",
    "for subdir, dirs, files in os.walk(r'C:\\Users\\DSimonov\\Desktop\\aa\\ratios\\0'):\n",
    "    for file in files:\n",
    "        filepath = subdir + os.sep + file\n",
    "        print(f\"Now begin to process {i} of {len(files)} files, ({int(i/(len(files))*100)}%)\")\n",
    "        df_temp = pd.read_csv(filepath, encoding =\"utf-8\")\n",
    "        if new.empty:\n",
    "            new = df_temp\n",
    "        else: new = new.join(df_temp.set_index('bank'), on='bank',rsuffix=(\"_\"+str(i)))\n",
    "        print(f\"Done!\")\n",
    "        i+=1\n",
    "print(f\"Everything was imported. Now we have {new.shape[0]} rows in file.\")\n",
    "print(\"Saving to CSV\")\n",
    "#print(new.head())\n",
    "print(\"Phase 5 completed!\")"
   ]
  },
  {
   "cell_type": "code",
   "execution_count": 2,
   "metadata": {},
   "outputs": [],
   "source": [
    "#new.to_csv(r'C:\\Users\\DSimonov\\Desktop\\aa\\\\ratios\\0\\total.csv', encoding = 'utf-8', index = False)"
   ]
  },
  {
   "cell_type": "code",
   "execution_count": 2,
   "metadata": {},
   "outputs": [],
   "source": [
    "import pandas as pd\n",
    "df_status = pd.read_csv(r'C:\\Users\\DSimonov\\Desktop\\aa\\liquid_banks.csv', encoding = 'utf-8')\n",
    "new = new.join(df_status.set_index('bank'), on='bank')"
   ]
  },
  {
   "cell_type": "code",
   "execution_count": null,
   "metadata": {},
   "outputs": [],
   "source": [
    "new.head()"
   ]
  },
  {
   "cell_type": "code",
   "execution_count": 3,
   "metadata": {},
   "outputs": [
    {
     "name": "stdout",
     "output_type": "stream",
     "text": [
      "   bank    recent  recent-1m  recent-2m  recent-3m  recent-4m  recent-5m  \\\n",
      "0     1  0.021958   0.027344   0.043421   0.054784   0.060291   0.056085   \n",
      "1     2  0.041055   0.038485   0.026977   0.022477   0.017458   0.052284   \n",
      "2     3  0.000000   0.044611   0.028635   0.000000   0.000000   0.000000   \n",
      "3     5  0.138874   0.144811   0.110500   0.118678   0.108218   0.112464   \n",
      "4    18  0.192308   0.185536   0.200250   0.176295   0.177686   0.151315   \n",
      "\n",
      "   recent-6m  recent-7m  recent-8m       ...        recent-3m_5_6  \\\n",
      "0   0.066591   0.056769   0.049723       ...                 12.0   \n",
      "1   0.101041   0.044358   0.051630       ...                 32.0   \n",
      "2   0.000000   0.000000   0.116591       ...                  0.0   \n",
      "3   0.144571   0.171677   0.115172       ...                  7.0   \n",
      "4   0.110355   0.116312   0.099848       ...                  0.0   \n",
      "\n",
      "   recent-4m_5_6  recent-5m_5_6  recent-6m_5_6  recent-7m_5_6  recent-8m_5_6  \\\n",
      "0           13.0           14.0           14.0           14.0           14.0   \n",
      "1           32.0           31.0           30.0           30.0           30.0   \n",
      "2            0.0            0.0            0.0            0.0            0.0   \n",
      "3            8.0            7.0            8.0            7.0            7.0   \n",
      "4            0.0            0.0            0.0            0.0            0.0   \n",
      "\n",
      "   recent-9m_5_6  recent-10m_5_6  recent-11m_5_6  status_cleaned  \n",
      "0           14.0            14.0            13.0               1  \n",
      "1           30.0            30.0            30.0               1  \n",
      "2            0.0             0.0             0.0               0  \n",
      "3            7.0             8.0             8.0               0  \n",
      "4            0.0             0.0             0.0               0  \n",
      "\n",
      "[5 rows x 122 columns]\n"
     ]
    }
   ],
   "source": [
    "import pandas as pd\n",
    "import numpy as np\n",
    "import matplotlib.pyplot as plt\n",
    "import time\n",
    "from sklearn.model_selection import train_test_split\n",
    "from sklearn.naive_bayes import GaussianNB, BernoulliNB, MultinomialNB, ComplementNB\n",
    "\n",
    "# Importing dataset\n",
    "data = pd.DataFrame(new)\n",
    "data.reset_index()\n",
    "data.set_index('bank')\n",
    "# Convert categorical variable to numeric\n",
    "data[\"status_cleaned\"]=np.where(data[\"status\"]==\"Liquidation\",0,1)\n",
    "data = data.drop(['status'], axis=1)\n",
    "# Cleaning dataset of NaN\n",
    "# data=data[['recent', 'recent-1m', 'recent-2m', 'recent-3m', 'recent-4m', 'recent-5m', 'recent-6m', \n",
    "#                 'recent-7m', 'recent-8m', 'recent-9m', 'recent-10m', 'recent-11m', 'recent_2', 'recent-1m_2', \n",
    "#                 'recent-2m_2', 'recent-3m_2', 'recent-4m_2', 'recent-5m_2', 'recent-6m_2', 'recent-7m_2', \n",
    "#                 'recent-8m_2', 'recent-9m_2', 'recent-10m_2', 'recent-11m_2', 'recent_3', 'recent-1m_3', \n",
    "#                 'recent-2m_3', 'recent-3m_3', 'recent-4m_3', 'recent-5m_3', 'recent-6m_3', 'recent-7m_3', \n",
    "#                 'recent-8m_3', 'recent-9m_3', 'recent-10m_3', 'recent-11m_3', 'recent_4', 'recent-1m_4', \n",
    "#                 'recent-2m_4', 'recent-3m_4', 'recent-4m_4', 'recent-5m_4', 'recent-6m_4', 'recent-7m_4', \n",
    "#                 'recent-8m_4', 'recent-9m_4', 'recent-10m_4', 'recent-11m_4', 'recent_5', 'recent-1m_5', \n",
    "#                 'recent-2m_5', 'recent-3m_5', 'recent-4m_5', 'recent-5m_5', 'recent-6m_5', 'recent-7m_5', \n",
    "#                 'recent-8m_5', 'recent-9m_5', 'recent-10m_5', 'recent-11m_5']]\n",
    "# #data.dropna(axis=0, how='any')\n",
    "data.reset_index()\n",
    "\n",
    "data[data==np.inf]=np.nan\n",
    "data = data.fillna(0)\n",
    "print(data.head())"
   ]
  },
  {
   "cell_type": "code",
   "execution_count": 4,
   "metadata": {},
   "outputs": [],
   "source": [
    "# Split dataset in training and test datasets\n",
    "X_train, X_test, y_train, y_test  = train_test_split(data, data['status_cleaned'], test_size=0.2, random_state=int(time.time()))"
   ]
  },
  {
   "cell_type": "code",
   "execution_count": null,
   "metadata": {},
   "outputs": [],
   "source": [
    "import pandas as pd\n",
    "import numpy as np\n",
    "import matplotlib.pyplot as plt\n",
    "import time\n",
    "import sklearn\n",
    "from sklearn.model_selection import train_test_split\n",
    "from sklearn.naive_bayes import GaussianNB, BernoulliNB, MultinomialNB\n",
    "\n",
    "# Importing dataset\n",
    "data = pd.DataFrame(new)\n",
    "data.reset_index()\n",
    "data.set_index('bank')\n",
    "\n",
    "# Convert categorical variable to numeric\n",
    "data[\"status_cleaned\"]=np.where(data[\"status\"]==\"Liquidation\",0,1)\n",
    "#data = data.drop(['status'], axis=1, inplace=True)\n",
    "#data = pd.DataFrame(data)\n",
    "data.reset_index()\n",
    "#data = data.drop(['status'], axis=1)\n",
    "# Cleaning dataset of NaN\n",
    "\n",
    "# data=data[['bank', 'status_cleaned', 'recent', 'recent-1m', 'recent-2m', 'recent-3m', 'recent-4m', \n",
    "#               'recent-5m', 'recent-6m', 'recent-7m', 'recent-8m', 'recent-9m', 'recent-10m', 'recent-11m'\n",
    "# ]].dropna(axis=0, how='any')\n",
    "\n",
    "data=data.dropna(axis=0, how='any')\n",
    "\n",
    "data.reset_index()\n",
    "\n",
    "data[data==np.inf]=np.nan\n",
    "data = data.fillna(0)\n",
    "# Split dataset in training and test datasets\n"
   ]
  },
  {
   "cell_type": "code",
   "execution_count": null,
   "metadata": {},
   "outputs": [],
   "source": [
    "data = data.drop(['status'], axis=1)\n",
    "data.head()"
   ]
  },
  {
   "cell_type": "code",
   "execution_count": null,
   "metadata": {},
   "outputs": [],
   "source": [
    "X_train, X_test = train_test_split(data, test_size=0.2, random_state=int(time.time()))"
   ]
  },
  {
   "cell_type": "code",
   "execution_count": null,
   "metadata": {},
   "outputs": [],
   "source": [
    "print(X_train)"
   ]
  },
  {
   "cell_type": "code",
   "execution_count": null,
   "metadata": {},
   "outputs": [],
   "source": [
    "#data.head()\n",
    "data = data.drop(['status'], axis=1, inplace=True)\n",
    "data.reset_index()"
   ]
  },
  {
   "cell_type": "code",
   "execution_count": null,
   "metadata": {},
   "outputs": [],
   "source": [
    "print(new.head())\n",
    "#data.reset_index()\n",
    "#data.set_index('bank')\n",
    "data.reset_index()\n",
    "data[data==np.inf]=np.nan\n",
    "print(data.head())\n",
    "print(data.info())\n",
    "pd.isnull(data).sum() > 0\n",
    "\n",
    "#idx = data.index[data.isnull().all(1)]\n",
    "#print(idx)\n",
    "data = data.fillna(0)\n",
    "#np.nan_to_num(data, copy=True)\n",
    "df1 = data[data.isna().any(axis=1)]\n",
    "print(df1)"
   ]
  },
  {
   "cell_type": "code",
   "execution_count": null,
   "metadata": {},
   "outputs": [],
   "source": [
    "columns_ML = list(df1.columns)\n",
    "print(columns_ML)"
   ]
  },
  {
   "cell_type": "code",
   "execution_count": null,
   "metadata": {},
   "outputs": [],
   "source": [
    "# Instantiate the classifier\n",
    "gnb = GaussianNB()\n",
    "used_features =['recent', 'recent-1m', 'recent-2m', 'recent-3m', 'recent-4m', 'recent-5m', 'recent-6m', \n",
    "                'recent-7m', 'recent-8m', 'recent-9m', 'recent-10m', 'recent-11m', 'recent_2', 'recent-1m_2', \n",
    "                'recent-2m_2', 'recent-3m_2', 'recent-4m_2', 'recent-5m_2', 'recent-6m_2', 'recent-7m_2', \n",
    "                'recent-8m_2', 'recent-9m_2', 'recent-10m_2', 'recent-11m_2', 'recent_3', 'recent-1m_3', \n",
    "                'recent-2m_3', 'recent-3m_3', 'recent-4m_3', 'recent-5m_3', 'recent-6m_3', 'recent-7m_3', \n",
    "                'recent-8m_3', 'recent-9m_3', 'recent-10m_3', 'recent-11m_3', 'recent_4', 'recent-1m_4', \n",
    "                'recent-2m_4', 'recent-3m_4', 'recent-4m_4', 'recent-5m_4', 'recent-6m_4', 'recent-7m_4', \n",
    "                'recent-8m_4', 'recent-9m_4', 'recent-10m_4', 'recent-11m_4', 'recent_5', 'recent-1m_5', \n",
    "                'recent-2m_5', 'recent-3m_5', 'recent-4m_5', 'recent-5m_5', 'recent-6m_5', 'recent-7m_5', \n",
    "                'recent-8m_5', 'recent-9m_5', 'recent-10m_5', 'recent-11m_5']\n",
    "\n",
    "# Train classifier\n",
    "gnb.fit(\n",
    "    X_train[used_features].values,\n",
    "    X_train['status_cleaned']\n",
    ")\n",
    "y_pred = gnb.predict(X_test[used_features])\n",
    "\n",
    "# Print results\n",
    "print(\"Number of mislabeled points out of a total {} points : {}, performance {:05.2f}%\"\n",
    "      .format(\n",
    "          X_test.shape[0],\n",
    "          (X_test['status_cleaned'] != y_pred).sum(),\n",
    "          100*(1-(X_test['status_cleaned'] != y_pred).sum()/X_test.shape[0])\n",
    "))"
   ]
  },
  {
   "cell_type": "code",
   "execution_count": 7,
   "metadata": {},
   "outputs": [],
   "source": [
    "import pandas as pd\n",
    "import numpy as np\n",
    "import matplotlib.pyplot as plt\n",
    "import time\n",
    "from sklearn.model_selection import train_test_split\n",
    "from sklearn.naive_bayes import GaussianNB, BernoulliNB, MultinomialNB, ComplementNB\n",
    "\n",
    "# Importing dataset\n",
    "data = pd.DataFrame(new)\n",
    "data.reset_index()\n",
    "data.set_index('bank')\n",
    "\n",
    "# Convert categorical variable to numeric\n",
    "data[\"status_cleaned\"]=np.where(data[\"status\"]==\"Liquidation\",0,1)\n",
    "data = data.drop(['status'], axis=1)\n",
    "# Cleaning dataset of NaN\n",
    "# data=data[['recent', 'recent-1m', 'recent-2m', 'recent-3m', 'recent-4m', 'recent-5m', 'recent-6m', \n",
    "#                 'recent-7m', 'recent-8m', 'recent-9m', 'recent-10m', 'recent-11m', 'recent_2', 'recent-1m_2', \n",
    "#                 'recent-2m_2', 'recent-3m_2', 'recent-4m_2', 'recent-5m_2', 'recent-6m_2', 'recent-7m_2', \n",
    "#                 'recent-8m_2', 'recent-9m_2', 'recent-10m_2', 'recent-11m_2', 'recent_3', 'recent-1m_3', \n",
    "#                 'recent-2m_3', 'recent-3m_3', 'recent-4m_3', 'recent-5m_3', 'recent-6m_3', 'recent-7m_3', \n",
    "#                 'recent-8m_3', 'recent-9m_3', 'recent-10m_3', 'recent-11m_3', 'recent_4', 'recent-1m_4', \n",
    "#                 'recent-2m_4', 'recent-3m_4', 'recent-4m_4', 'recent-5m_4', 'recent-6m_4', 'recent-7m_4', \n",
    "#                 'recent-8m_4', 'recent-9m_4', 'recent-10m_4', 'recent-11m_4', 'recent_5', 'recent-1m_5', \n",
    "#                 'recent-2m_5', 'recent-3m_5', 'recent-4m_5', 'recent-5m_5', 'recent-6m_5', 'recent-7m_5', \n",
    "#                 'recent-8m_5', 'recent-9m_5', 'recent-10m_5', 'recent-11m_5']]\n",
    "#data.dropna(axis=0, how='any')\n",
    "data.reset_index()\n",
    "\n",
    "data[data==np.inf]=np.nan\n",
    "data = data.fillna(0)\n",
    "# Split dataset in training and test datasets\n",
    "X_train, X_test, y_train, y_test  = train_test_split(data, data['status_cleaned'], test_size=0.2, random_state=int(time.time()))"
   ]
  },
  {
   "cell_type": "code",
   "execution_count": 8,
   "metadata": {},
   "outputs": [
    {
     "name": "stdout",
     "output_type": "stream",
     "text": [
      "0.5877192982456141\n"
     ]
    }
   ],
   "source": [
    "model = GaussianNB().fit(X_train, y_train)\n",
    "predicted = model.predict(X_test)\n",
    "\n",
    "print(np.mean(predicted == y_test)) "
   ]
  },
  {
   "cell_type": "code",
   "execution_count": 9,
   "metadata": {},
   "outputs": [
    {
     "name": "stdout",
     "output_type": "stream",
     "text": [
      "[[48 85]\n",
      " [ 9 86]]\n"
     ]
    }
   ],
   "source": [
    "from sklearn.metrics import confusion_matrix\n",
    "\n",
    "print(confusion_matrix(y_test, predicted)) "
   ]
  },
  {
   "cell_type": "code",
   "execution_count": 10,
   "metadata": {},
   "outputs": [],
   "source": [
    "import sklearn\n",
    "from sklearn import svm, preprocessing"
   ]
  },
  {
   "cell_type": "code",
   "execution_count": 61,
   "metadata": {},
   "outputs": [
    {
     "name": "stdout",
     "output_type": "stream",
     "text": [
      "0.5428571428571428\n",
      "model predicts  0, real value: 0\n",
      "model predicts  1, real value: 1\n",
      "model predicts  1, real value: 1\n",
      "model predicts  0, real value: 1\n",
      "model predicts  1, real value: 1\n",
      "model predicts  1, real value: 1\n",
      "model predicts  1, real value: 0\n",
      "model predicts  1, real value: 0\n",
      "model predicts  1, real value: 0\n",
      "model predicts  1, real value: 0\n"
     ]
    }
   ],
   "source": [
    "import sklearn\n",
    "from sklearn import svm, preprocessing\n",
    "df = sklearn.utils.shuffle(data)\n",
    "X = df.drop([\"status_cleaned\", 'bank'], axis=1).values\n",
    "X = preprocessing.scale(X)\n",
    "y = df[\"status_cleaned\"].values\n",
    "\n",
    "test_size = 140\n",
    "\n",
    "X_train = X[:-test_size]\n",
    "y_train = y[:-test_size]\n",
    "\n",
    "X_test = X[-test_size:]\n",
    "y_test = y[-test_size:]\n",
    "\n",
    "clf = GaussianNB()\n",
    "\n",
    "clf.fit(X_train, y_train)\n",
    "print(clf.score(X_test, y_test))\n",
    "\n",
    "for X,y in list(zip(X_test, y_test))[:10]:\n",
    "    print(f\"model predicts  {clf.predict([X])[0]}, real value: {y}\")\n",
    "# {clf.predict_proba(X_test)}\n",
    "# {df.isin(X)}"
   ]
  },
  {
   "cell_type": "code",
   "execution_count": 62,
   "metadata": {},
   "outputs": [],
   "source": [
    "bank = new.loc[df['bank'] == 96]\n",
    "bank1 = bank.drop(['status', 'bank', 'status_cleaned'], axis=1)"
   ]
  },
  {
   "cell_type": "code",
   "execution_count": 63,
   "metadata": {},
   "outputs": [
    {
     "name": "stdout",
     "output_type": "stream",
     "text": [
      "0.0\n"
     ]
    }
   ],
   "source": [
    "a = clf.predict_proba(bank1)[0]\n",
    "print(a[1])\n",
    "#print('{:.1%}'.format(a))"
   ]
  },
  {
   "cell_type": "code",
   "execution_count": null,
   "metadata": {},
   "outputs": [],
   "source": []
  },
  {
   "cell_type": "code",
   "execution_count": null,
   "metadata": {},
   "outputs": [],
   "source": []
  }
 ],
 "metadata": {
  "kernelspec": {
   "display_name": "Python 3",
   "language": "python",
   "name": "python3"
  },
  "language_info": {
   "codemirror_mode": {
    "name": "ipython",
    "version": 3
   },
   "file_extension": ".py",
   "mimetype": "text/x-python",
   "name": "python",
   "nbconvert_exporter": "python",
   "pygments_lexer": "ipython3",
   "version": "3.7.3"
  }
 },
 "nbformat": 4,
 "nbformat_minor": 2
}

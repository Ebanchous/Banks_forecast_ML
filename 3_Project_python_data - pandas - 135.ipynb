{
 "cells": [
  {
   "cell_type": "code",
   "execution_count": null,
   "metadata": {},
   "outputs": [],
   "source": [
    "'''import pandas as pd\n",
    "import numpy as np\n",
    "df = pd.read_csv(r'C:\\Users\\DSimonov\\Desktop\\aa\\sdv.csv', encoding =\"cp866\", decimal =\".\" )\n",
    "df.columns =[ 'regn', 'plan', 'num_sc', 'a_p', 'vr', 'vv','vitg', 'ora', 'ova','oitga', 'orp', 'ovp','oitgp', 'ir', 'iv','iitg', 'dt', 'priz']\n",
    "for col in ['plan', 'num_sc', 'a_p']:\n",
    "    df[col] = df[col].astype('object')\n",
    "for col in ['regn', 'vr', 'vv','vitg','ora', 'ova','oitga', 'orp', 'ovp','oitgp', 'ir', 'iv','iitg']:\n",
    "    df[col] = df[col].replace('None', np.nan, regex=True)\n",
    "    df[col] = df[col].fillna(0)\n",
    "    df[col] = pd.to_numeric(df[col].astype('float64'))\n",
    "    df[col] = pd.to_numeric(df[col].astype('int64'))\n",
    "#    df[ pd.to_numeric(df[col], errors='coerce').isnull()]\n",
    "#    df[col] = df[col].to_numeric(df[col].astype('int64'))\n",
    "\n",
    "df['dt'] =  pd.to_datetime(df['dt'])\n",
    "df.info()\n",
    "print(df.head())\n",
    "print(df.describe())'''"
   ]
  },
  {
   "cell_type": "code",
   "execution_count": 36,
   "metadata": {},
   "outputs": [
    {
     "name": "stdout",
     "output_type": "stream",
     "text": [
      "Phase 3. Converting all CSV files into Pandas Database.\n",
      "Done! number 1\n",
      "Done! number 2\n",
      "Done! number 3\n",
      "Done! number 4\n",
      "Done! number 5\n",
      "Done! number 6\n",
      "Done! number 7\n",
      "Done! number 8\n",
      "Done! number 9\n",
      "Done! number 10\n",
      "Done! number 11\n",
      "Done! number 12\n",
      "Done! number 13\n",
      "Done! number 14\n",
      "Done! number 15\n",
      "Done! number 16\n",
      "Done! number 17\n",
      "Done! number 18\n",
      "Done! number 19\n",
      "Done! number 20\n",
      "Done! number 21\n",
      "Done! number 22\n",
      "Done! number 23\n",
      "Done! number 24\n",
      "Done! number 25\n",
      "Done! number 26\n",
      "Done! number 27\n",
      "Done! number 28\n",
      "Done! number 29\n",
      "Done! number 30\n",
      "Done! number 31\n",
      "Done! number 32\n",
      "Done! number 33\n",
      "Done! number 34\n",
      "Done! number 35\n",
      "Done! number 36\n",
      "Done! number 37\n",
      "Done! number 38\n",
      "Done! number 39\n",
      "Done! number 40\n",
      "Done! number 41\n",
      "Done! number 42\n",
      "Done! number 43\n",
      "Done! number 44\n",
      "Done! number 45\n",
      "Done! number 46\n",
      "Done! number 47\n",
      "Done! number 48\n",
      "Done! number 49\n",
      "Done! number 50\n",
      "Done! number 51\n",
      "Done! number 52\n",
      "Done! number 53\n",
      "Done! number 54\n",
      "Done! number 55\n",
      "Done! number 56\n",
      "Done! number 57\n",
      "Done! number 58\n",
      "Done! number 59\n",
      "Done! number 60\n",
      "Done! number 61\n",
      "Done! number 62\n",
      "Done! number 63\n",
      "Done! number 64\n",
      "Done! number 65\n",
      "Done! number 66\n",
      "Done! number 67\n",
      "Done! number 68\n",
      "Done! number 69\n",
      "Done! number 70\n",
      "Done! number 71\n",
      "Done! number 72\n",
      "Done! number 73\n",
      "Done! number 74\n",
      "Done! number 75\n",
      "Done! number 76\n",
      "Done! number 77\n",
      "Done! number 78\n",
      "Done! number 79\n",
      "Done! number 80\n",
      "Done! number 81\n",
      "Done! number 82\n",
      "Done! number 83\n",
      "Done! number 84\n",
      "Done! number 85\n",
      "Done! number 86\n",
      "Done! number 87\n",
      "Done! number 88\n",
      "Done! number 89\n",
      "Done! number 90\n",
      "Done! number 91\n",
      "Done! number 92\n",
      "Done! number 93\n",
      "Done! number 94\n",
      "Done! number 95\n",
      "Done! number 96\n",
      "Done! number 97\n",
      "Done! number 98\n",
      "Done! number 99\n",
      "Done! number 100\n",
      "Done! number 101\n",
      "Done! number 102\n",
      "Done! number 103\n",
      "Done! number 104\n",
      "Done! number 105\n",
      "Done! number 106\n",
      "Done! number 107\n",
      "Everything was imported. Now we have 725643 rows in file.\n",
      "Saving to CSV\n",
      "   act_norm code_norm          dt max_norm notes  regn\n",
      "0        16    Н1      01-02-2011      NaN   NaN     1\n",
      "1        78    Н2      01-02-2011      NaN   NaN     1\n",
      "2        76    Н3      01-02-2011      NaN   NaN     1\n",
      "3        94    Н4      01-02-2011      NaN   NaN     1\n",
      "4       124    Н7      01-02-2011      NaN   NaN     1\n",
      "Phase 3 completed!\n",
      "108\n",
      "Wall time: 12.2 s\n"
     ]
    }
   ],
   "source": [
    "%%time\n",
    "import re\n",
    "import os\n",
    "import pandas as pd\n",
    "import numpy as np\n",
    "i=1\n",
    "df135=pd.DataFrame()\n",
    "print(\"Phase 3. Converting all CSV files into Pandas Database.\")\n",
    "for subdir, dirs, files in os.walk(r'C:\\Users\\DSimonov\\Desktop\\aa\\135'):\n",
    "    for file in files:\n",
    "#         print(file)\n",
    "        filepath = subdir + os.sep + file      \n",
    "        file_name_month = int(os.path.basename(file).split('.')[0][:2])\n",
    "        file_name_year = int(os.path.basename(file).split('.')[0][2:6])\n",
    "#        print(file_name_month, file_name_year)\n",
    "#        print(f\"Now begin to process {i} of {len(files)} files, ({int(i/(len(files))*100)}%)\")\n",
    "        df_temp = pd.read_csv(filepath, encoding =\"cp866\", decimal =\".\" )\n",
    "#         cols_temp = list(df_temp.columns)\n",
    "#         print(cols_temp)\n",
    "        if file_name_year <2012:\n",
    "            df_temp.columns =[ 'regn', 'code_norm', 'act_norm']\n",
    "        elif  file_name_year <2013 and file_name_month >6:\n",
    "            df_temp.columns =[ 'regn', 'code_norm', 'act_norm', 'max_norm', 'notes']\n",
    "        elif  file_name_year <2013:\n",
    "            df_temp.columns =[ 'regn', 'code_norm', 'act_norm', 'max_norm']\n",
    "        elif  file_name_year <2013:\n",
    "            df_temp.columns =[ 'regn', 'code_norm', 'act_norm', 'max_norm']\n",
    "        else:\n",
    "            df_temp.columns =[ 'regn', 'code_norm', 'act_norm', 'max_norm', 'notes']\n",
    "\n",
    "        for col in [ 'code_norm']:\n",
    "            df_temp[col] = df_temp[col].astype('object')\n",
    "        for col in ['regn', 'act_norm']:\n",
    "            df_temp[col] = df_temp[col].replace('None', np.nan, regex=True)\n",
    "            df_temp[col] = df_temp[col].fillna(0)\n",
    "            df_temp[col] = pd.to_numeric(df_temp[col].astype('float64'))\n",
    "            df_temp[col] = pd.to_numeric(df_temp[col].astype('int64'))\n",
    "        if file_name_month==12:\n",
    "            file_name_month = 1\n",
    "            file_name_year = file_name_year +1\n",
    "            df_temp['dt'] =  \"01\"+\"-\"+str(file_name_month).zfill(2)+\"-\"+str(file_name_year)\n",
    "#                print(file_name_year, file_name_month)\n",
    "        elif file_name_month<12:\n",
    "#                print(f'file month was {file_name_month}')\n",
    "            file_name_month = file_name_month +1\n",
    "#                print(f'now file month is {file_name_month}')\n",
    "            df_temp['dt'] =  \"01\"+\"-\"+str(file_name_month).zfill(2)+\"-\"+str(file_name_year)\n",
    "        else:\n",
    "            print(f'ELSE!!!!! file {file}')\n",
    "#         cols_temp = list(df_temp.columns)\n",
    "#         print(cols_temp)        \n",
    "        df135 = df135.append(df_temp, ignore_index=True)\n",
    "#         cols = list(df135.columns)\n",
    "#         print(f'date is {\"01\"+\"-\"+str(file_name_month).zfill(2)+\"-\"+str(file_name_year)}')\n",
    "#         print(cols)\n",
    "        print(f\"Done! number {i}\")\n",
    "        i+=1\n",
    "print(f\"Everything was imported. Now we have {df135.shape[0]} rows in file.\")\n",
    "print(\"Saving to CSV\")\n",
    "df135.to_csv(r'C:\\Users\\DSimonov\\Desktop\\aa\\total-135.csv', encoding = 'utf-8', index = False)\n",
    "print(df135.head())\n",
    "print(\"Phase 3 completed!\")\n",
    "print(i)\n"
   ]
  },
  {
   "cell_type": "code",
   "execution_count": 37,
   "metadata": {},
   "outputs": [
    {
     "name": "stdout",
     "output_type": "stream",
     "text": [
      "['act_norm', 'code_norm', 'dt', 'max_norm', 'notes', 'regn']\n"
     ]
    }
   ],
   "source": [
    "cols = list(df135.columns)\n",
    "print(cols)"
   ]
  },
  {
   "cell_type": "code",
   "execution_count": null,
   "metadata": {},
   "outputs": [],
   "source": [
    "%%time\n",
    "import pandas as pd\n",
    "print(\"Loading CSV with data\")\n",
    "df = pd.read_csv(r'C:\\Users\\DSimonov\\Desktop\\aa\\total-101.csv')\n",
    "print(\"Converting fields into proper format.\")\n",
    "#for col in df['plan', 'num_sc', 'a_p']:\n",
    "#    df[col] = df[col].astype('object')\n",
    "df['a_p'] = df['a_p'].astype('object')\n",
    "df['dt'] =  pd.to_datetime(df['dt'])\n",
    "print(\"Done! now we have {df.shape[0]} rows in dataframe.\")"
   ]
  },
  {
   "cell_type": "code",
   "execution_count": null,
   "metadata": {},
   "outputs": [],
   "source": [
    "df.tail()"
   ]
  },
  {
   "cell_type": "code",
   "execution_count": null,
   "metadata": {},
   "outputs": [],
   "source": [
    "%%time\n",
    "reg_number = 2880\n",
    "date = ['2018-01-01']\n",
    "acc=[20202]\n",
    "df_temp1 = df.loc[df['regn'] == reg_number & df['dt'].isin(date) & df['num_sc'].isin(acc)]['iitg']"
   ]
  },
  {
   "cell_type": "code",
   "execution_count": null,
   "metadata": {},
   "outputs": [],
   "source": [
    "a = df_temp1.values[0]\n",
    "a"
   ]
  },
  {
   "cell_type": "code",
   "execution_count": null,
   "metadata": {},
   "outputs": [],
   "source": [
    "%%time\n",
    "df2 = df.loc[df['regn'] == reg_number]"
   ]
  },
  {
   "cell_type": "code",
   "execution_count": null,
   "metadata": {},
   "outputs": [],
   "source": [
    "%%time\n",
    "df2.head()"
   ]
  },
  {
   "cell_type": "code",
   "execution_count": null,
   "metadata": {},
   "outputs": [],
   "source": [
    "%%time\n",
    "date = ['2011-01-01']\n",
    "acc=[20202, 30102, 40817, 47423]\n",
    "df3 = df2.loc[df2['dt'].isin(date)& df2['num_sc'].isin(acc)]\n",
    "df4 = df3[['num_sc','iitg']]\n",
    "print(df4.head())\n",
    "a = df4['iitg'].sum(axis = 0)\n",
    "print(a)"
   ]
  },
  {
   "cell_type": "code",
   "execution_count": null,
   "metadata": {},
   "outputs": [],
   "source": [
    "df_loans = pd.read_csv(r'C:\\Users\\DSimonov\\Desktop\\aa\\loans_pns.csv')\n",
    "df_loans.head()"
   ]
  },
  {
   "cell_type": "code",
   "execution_count": null,
   "metadata": {},
   "outputs": [],
   "source": [
    "'''по счетам погашенных кредитов (учтенных\n",
    "векселей)'''\n",
    "redeemed_loans = pd.read_csv(r'C:\\Users\\DSimonov\\Desktop\\aa\\loans_pns.csv')\n",
    "redeemed_loans.head()\n",
    "\n",
    "'''общему объему денежных средств, поступивших на корреспондентские счета кредитной\n",
    "организации (дебетовые обороты за месяц по счетам НОСТРО)'''\n",
    "\n",
    "nostro = pd.read_csv(r'C:\\Users\\DSimonov\\Desktop\\aa\\nostro.csv')\n",
    "nostro.head()"
   ]
  },
  {
   "cell_type": "code",
   "execution_count": null,
   "metadata": {},
   "outputs": [],
   "source": [
    "def last_report_date(reg_number):\n",
    "    date = max(df.loc[df['regn'] == reg_number]['dt'])\n",
    "    return date"
   ]
  },
  {
   "cell_type": "code",
   "execution_count": null,
   "metadata": {},
   "outputs": [],
   "source": [
    "%%time\n",
    "print(last_report_date (880))"
   ]
  },
  {
   "cell_type": "code",
   "execution_count": null,
   "metadata": {},
   "outputs": [],
   "source": [
    "%%time\n",
    "print(df.head())\n",
    "df_temp12 = df.loc[df['regn'] == 2880]\n",
    "df_temp13 = df_temp12.groupby(level=0)['dt'].min()\n",
    "date = df_temp13.values[0]\n",
    "print(date)"
   ]
  },
  {
   "cell_type": "code",
   "execution_count": null,
   "metadata": {},
   "outputs": [],
   "source": [
    "%%time\n",
    "df['dt'] = pd.to_datetime(df['dt'])\n",
    "df.info()"
   ]
  },
  {
   "cell_type": "code",
   "execution_count": null,
   "metadata": {},
   "outputs": [],
   "source": [
    "%%time\n",
    "print(df.head())\n",
    "date = max(df.loc[df['regn'] == 2880]['dt'])\n",
    "print(date)"
   ]
  },
  {
   "cell_type": "code",
   "execution_count": null,
   "metadata": {},
   "outputs": [],
   "source": []
  }
 ],
 "metadata": {
  "kernelspec": {
   "display_name": "Python 3",
   "language": "python",
   "name": "python3"
  },
  "language_info": {
   "codemirror_mode": {
    "name": "ipython",
    "version": 3
   },
   "file_extension": ".py",
   "mimetype": "text/x-python",
   "name": "python",
   "nbconvert_exporter": "python",
   "pygments_lexer": "ipython3",
   "version": "3.7.3"
  }
 },
 "nbformat": 4,
 "nbformat_minor": 2
}
